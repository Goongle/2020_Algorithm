{
 "cells": [
  {
   "cell_type": "markdown",
   "metadata": {},
   "source": [
    "## Greedy Algorithms\n",
    "\n",
    "1. 시간 중에서 맨 처음 끝나는 일을 찾아 해당 작업을 수행\n",
    "2. 그 다음으로 연관된 작업 찾기 (이전 작업의 종료 시점 보다 시작점이 크거나 같고, 종료 시점이 가장 빠른 것 그리고 수행이 되지 않은 것)\n",
    "3. 찾은 작업이 가장 늦게 시작하는 시간보다 클 경우 stop\n",
    "ㅡㅡㅡㅡㅡㅡㅡㅡㅡㅡㅡㅡㅡㅡㅡㅡㅡㅡㅡㅡㅡㅡㅡㅡㅡㅡㅡㅡㅡㅡㅡㅡㅡ\n",
    "\n",
    "배열의 특성을 잘못 생각 했다\n",
    "\n",
    "-> 처음으로 푼 방식은 정렬이 되어 있지 않은 상태로 우선적으로 적용해야 할 녀석을 찾기 위해 전체 for 문을 계속 돌았고 while 문을 걸었다.\n",
    "\n",
    "그렇게 된 결과 시간 초과가 떴고 문제를 풀 수 없었다. (답은 정상적으로 나옴)\n",
    "\n",
    "하지만 찾아야 하는 다음 녀석의 특성을 살펴보면 문제를 쉽게 풀 수 있다.\n",
    "\n",
    "조건은 다음과 같다.\n",
    "\n",
    "1. 종료 시점이 최대한 작을 것\n",
    "2. 종료 시점이 작다면 시작 시점이 작을 것\n",
    "\n",
    "즉 배열이\n",
    "3 4\n",
    "3 3\n",
    "2 3\n",
    "1 1 이런 식으로 나열 되어 있다고 치자\n",
    "\n",
    "1번 조건을 이용하여\n",
    "\n",
    "1 1\n",
    "3 3\n",
    "2 3\n",
    "3 4 라고 볼 수 있다. 하지만 시작할 수 있다면 최대한 빠르게 시작하는 것이 좋다 ( 3 3을 먼저 실행하면 2 3이 실행될 수 없으므로)\n",
    "따라서 \n",
    "\n",
    "1 1\n",
    "2 3\n",
    "3 3\n",
    "3 4\n",
    "\n",
    "이런 식으로 배열을 구성해야 올바른 답안을 찾을 수 있다."
   ]
  },
  {
   "cell_type": "code",
   "execution_count": 27,
   "metadata": {
    "scrolled": true
   },
   "outputs": [
    {
     "name": "stdout",
     "output_type": "stream",
     "text": [
      "1\n",
      "1\n"
     ]
    },
    {
     "ename": "IndexError",
     "evalue": "list index out of range",
     "output_type": "error",
     "traceback": [
      "\u001b[1;31m---------------------------------------------------------------------------\u001b[0m",
      "\u001b[1;31mIndexError\u001b[0m                                Traceback (most recent call last)",
      "\u001b[1;32m<ipython-input-27-eb9cd280e8bd>\u001b[0m in \u001b[0;36m<module>\u001b[1;34m\u001b[0m\n\u001b[0;32m      6\u001b[0m     \u001b[0mtemp\u001b[0m \u001b[1;33m=\u001b[0m \u001b[0minput\u001b[0m\u001b[1;33m(\u001b[0m\u001b[1;33m)\u001b[0m\u001b[1;33m.\u001b[0m\u001b[0msplit\u001b[0m\u001b[1;33m(\u001b[0m\u001b[1;33m)\u001b[0m\u001b[1;33m\u001b[0m\u001b[1;33m\u001b[0m\u001b[0m\n\u001b[0;32m      7\u001b[0m     \u001b[0mtemp_ary\u001b[0m\u001b[1;33m.\u001b[0m\u001b[0mappend\u001b[0m\u001b[1;33m(\u001b[0m\u001b[0mint\u001b[0m\u001b[1;33m(\u001b[0m\u001b[0mtemp\u001b[0m\u001b[1;33m[\u001b[0m\u001b[1;36m0\u001b[0m\u001b[1;33m]\u001b[0m\u001b[1;33m)\u001b[0m\u001b[1;33m)\u001b[0m\u001b[1;33m\u001b[0m\u001b[1;33m\u001b[0m\u001b[0m\n\u001b[1;32m----> 8\u001b[1;33m     \u001b[0mtemp_ary\u001b[0m\u001b[1;33m.\u001b[0m\u001b[0mappend\u001b[0m\u001b[1;33m(\u001b[0m\u001b[0mint\u001b[0m\u001b[1;33m(\u001b[0m\u001b[0mtemp\u001b[0m\u001b[1;33m[\u001b[0m\u001b[1;36m1\u001b[0m\u001b[1;33m]\u001b[0m\u001b[1;33m)\u001b[0m\u001b[1;33m)\u001b[0m\u001b[1;33m\u001b[0m\u001b[1;33m\u001b[0m\u001b[0m\n\u001b[0m\u001b[0;32m      9\u001b[0m     \u001b[0mary\u001b[0m\u001b[1;33m.\u001b[0m\u001b[0mappend\u001b[0m\u001b[1;33m(\u001b[0m\u001b[0mtemp_ary\u001b[0m\u001b[1;33m)\u001b[0m\u001b[1;33m\u001b[0m\u001b[1;33m\u001b[0m\u001b[0m\n\u001b[0;32m     10\u001b[0m \u001b[1;33m\u001b[0m\u001b[0m\n",
      "\u001b[1;31mIndexError\u001b[0m: list index out of range"
     ]
    }
   ],
   "source": [
    "value = int(input())\n",
    "\n",
    "ary =[]\n",
    "for i in range (0,value):\n",
    "    temp_ary = []\n",
    "    temp = input().split()\n",
    "    temp_ary.append(int(temp[0]))\n",
    "    temp_ary.append(int(temp[1]))\n",
    "    ary.append(temp_ary)\n",
    "    \n",
    "min_value = ary[0][0] + ary[0][1]\n",
    "start_index = 0\n",
    "check_value = [True] * value\n",
    "for i in range (0,value) :\n",
    "    if min_value > ary[i][0] + ary[i][1] :\n",
    "        min_value = ary[i][0] + ary[i][1]\n",
    "        start_index = i\n",
    "check_value[start_index] = False # False 는 뽑힌 것\n",
    "## 시작 점 찾기\n",
    "# 이 끝나는 시간보다 늦으면 작업 종료\n",
    "now_point = start_index\n",
    "end_time = -1\n",
    "check_point = now_point\n",
    "while(True) : \n",
    "    for i in range (0,value) :\n",
    "        if ary[now_point][1] <= ary[i][0] and check_value[i] == True:\n",
    "            if end_time == -1 :\n",
    "                end_time = ary[i][1]\n",
    "                check_point = i\n",
    "                continue\n",
    "            else :\n",
    "                if ary[check_point][1] > ary[i][1]:\n",
    "                    end_time = ary[i][1]\n",
    "                    check_point = i \n",
    "    now_point = check_point\n",
    "    check_value[now_point] = False\n",
    "    if ary[now_point][1] > end_time :\n",
    "        count = 0\n",
    "        for i in range (0,value) :\n",
    "            if check_value[i] == False:\n",
    "                count = count +1\n",
    "        print(count)\n",
    "        break\n",
    "    end_time = -1"
   ]
  },
  {
   "cell_type": "code",
   "execution_count": 33,
   "metadata": {},
   "outputs": [
    {
     "name": "stdout",
     "output_type": "stream",
     "text": [
      "3\n",
      "3 3\n",
      "2 2\n",
      "1 1\n",
      "3\n"
     ]
    }
   ],
   "source": [
    "value = int(input())\n",
    "\n",
    "ary =[]\n",
    "for i in range (0,value):\n",
    "    temp_ary = []\n",
    "    temp = input().split()\n",
    "    temp_ary.append(int(temp[0]))\n",
    "    temp_ary.append(int(temp[1]))\n",
    "    ary.append(temp_ary)\n",
    "ary.sort(key = lambda x: (x[1],x[0]))\n",
    "\n",
    "start = -1\n",
    "count = 0\n",
    "for i in range (0,value) :\n",
    "    if ary[i][0] >= start :\n",
    "        count = count +1\n",
    "        start = ary[i][1]\n",
    "print(count)"
   ]
  }
 ],
 "metadata": {
  "kernelspec": {
   "display_name": "Python 3",
   "language": "python",
   "name": "python3"
  },
  "language_info": {
   "codemirror_mode": {
    "name": "ipython",
    "version": 3
   },
   "file_extension": ".py",
   "mimetype": "text/x-python",
   "name": "python",
   "nbconvert_exporter": "python",
   "pygments_lexer": "ipython3",
   "version": "3.7.6"
  }
 },
 "nbformat": 4,
 "nbformat_minor": 4
}
