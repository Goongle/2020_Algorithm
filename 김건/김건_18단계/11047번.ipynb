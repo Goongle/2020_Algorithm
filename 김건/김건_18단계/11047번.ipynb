{
 "cells": [
  {
   "cell_type": "markdown",
   "metadata": {},
   "source": [
    "## Greedy Algorithms\n",
    "\n",
    "동전의 차 값을 계속 갖고 있으면서 차 값과 가장 가까운 것을 계속 찾아낸다."
   ]
  },
  {
   "cell_type": "code",
   "execution_count": 11,
   "metadata": {},
   "outputs": [
    {
     "name": "stdout",
     "output_type": "stream",
     "text": [
      "10 4200\n",
      "1\n",
      "5\n",
      "10\n",
      "50\n",
      "100\n",
      "500\n",
      "1000\n",
      "5000\n",
      "10000\n",
      "50000\n",
      "0\n",
      "1\n",
      "2\n",
      "3\n",
      "4\n",
      "5\n",
      "6\n",
      "0\n",
      "1\n",
      "2\n",
      "3\n",
      "4\n",
      "0\n",
      "6\n"
     ]
    }
   ],
   "source": [
    "temp = input().split()\n",
    "input1 = int(temp[0]) # 동전 개수\n",
    "input2 = int(temp[1]) # 총 금액\n",
    "ary = []\n",
    "for i in range (0,input1) :\n",
    "    var = int(input())\n",
    "    ary.append(var)\n",
    "\n",
    "count =  0\n",
    "i = 0\n",
    "result_value = input2\n",
    "\n",
    "while (True) :\n",
    "    if input1 == 1 :\n",
    "        count = int(result_value/ary[0])\n",
    "        print(count)\n",
    "        break\n",
    "    if i == input1-1 :\n",
    "        var = int(result_value/ary[i])\n",
    "        result_value = result_value - var * ary[i]\n",
    "        count = count + var\n",
    "        i = 0\n",
    "        continue\n",
    "    if ary[i] <= result_value and ary[i+1] > result_value :\n",
    "        var = int(result_value/ary[i])\n",
    "        result_value = result_value - var * ary[i]\n",
    "        count = count + var\n",
    "        i = 0\n",
    "        continue\n",
    "    if result_value == 0 :\n",
    "        print(count)\n",
    "        break\n",
    "    i = i +1"
   ]
  }
 ],
 "metadata": {
  "kernelspec": {
   "display_name": "Python 3",
   "language": "python",
   "name": "python3"
  },
  "language_info": {
   "codemirror_mode": {
    "name": "ipython",
    "version": 3
   },
   "file_extension": ".py",
   "mimetype": "text/x-python",
   "name": "python",
   "nbconvert_exporter": "python",
   "pygments_lexer": "ipython3",
   "version": "3.7.6"
  }
 },
 "nbformat": 4,
 "nbformat_minor": 4
}
