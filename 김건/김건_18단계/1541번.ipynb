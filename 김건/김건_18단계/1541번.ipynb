{
 "cells": [
  {
   "cell_type": "markdown",
   "metadata": {},
   "source": [
    "## Greedy Algorithms\n",
    "\n",
    "- 를 최대한 합치면 될 것 같다.\n",
    "\n",
    "예를 들면 55-50+40 이라고 해보자. -뒤에 괄호를 넣고 - 혹은 맨 마지막일 경우 묶어주면 될 것 같다.\n",
    "\n",
    "* 결국 앞 자리에 -가 하나라도 존재한다면 뒤에는 모두 묶으면 되므로 모두 뺄셈 처리를 하면 된다."
   ]
  },
  {
   "cell_type": "code",
   "execution_count": 98,
   "metadata": {},
   "outputs": [
    {
     "name": "stdout",
     "output_type": "stream",
     "text": [
      "00005\n",
      "5\n"
     ]
    }
   ],
   "source": [
    "temp =input()\n",
    "result = []\n",
    "count = 0\n",
    "for i in range (0,len(temp)) :\n",
    "    if temp[i] == '-' :\n",
    "        if count == 1 :\n",
    "            result.append(')')\n",
    "            result.append(temp[i])\n",
    "            count = 0\n",
    "            result.append('(')\n",
    "            count = 1\n",
    "        else :\n",
    "            result.append(temp[i])\n",
    "            result.append('(')\n",
    "            count = 1\n",
    "        continue\n",
    "    result.append(temp[i])\n",
    "if count == 1 :\n",
    "    result.append(')')\n",
    "for i in range (1, len(result)) :\n",
    "    if result[i-1] == '0'  and (ord(result[i]) >= 48 and ord(result[i]) <= 57):\n",
    "        result[i-1] = ''\n",
    "result_str = ''\n",
    "for i in range (0,len(result)) :\n",
    "    result_str = result_str + result[i]\n",
    "print(eval(result_str))"
   ]
  },
  {
   "cell_type": "code",
   "execution_count": 97,
   "metadata": {
    "scrolled": true
   },
   "outputs": [
    {
     "name": "stdout",
     "output_type": "stream",
     "text": [
      "00000\n",
      "0\n"
     ]
    }
   ],
   "source": [
    "temp =input()\n",
    "result = []\n",
    "count = 0\n",
    "indx = -1\n",
    "result = []\n",
    "for i in range (0,len(temp)) :\n",
    "    if temp[i] == '-' :\n",
    "        count = 1\n",
    "        indx = i\n",
    "        break\n",
    "for i in range (0,len(temp)) :\n",
    "    result.append(temp[i])\n",
    "if count == 1 :\n",
    "    for i in range (indx,len(temp)) :\n",
    "        if temp[i] == '+' :\n",
    "            result[i] = '-'\n",
    "            \n",
    "for i in range (1, len(result)) :\n",
    "    if result[i-1] == '0'  and (ord(result[i]) >= 48 and ord(result[i]) <= 57):\n",
    "        result[i-1] = ''\n",
    "result_str = ''\n",
    "for i in range (0,len(result)) :\n",
    "    result_str = result_str + result[i]\n",
    "print(eval(result_str))"
   ]
  }
 ],
 "metadata": {
  "kernelspec": {
   "display_name": "Python 3",
   "language": "python",
   "name": "python3"
  },
  "language_info": {
   "codemirror_mode": {
    "name": "ipython",
    "version": 3
   },
   "file_extension": ".py",
   "mimetype": "text/x-python",
   "name": "python",
   "nbconvert_exporter": "python",
   "pygments_lexer": "ipython3",
   "version": "3.7.6"
  }
 },
 "nbformat": 4,
 "nbformat_minor": 4
}
