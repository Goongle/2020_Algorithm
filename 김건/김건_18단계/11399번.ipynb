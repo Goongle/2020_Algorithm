{
 "cells": [
  {
   "cell_type": "code",
   "execution_count": null,
   "metadata": {},
   "outputs": [],
   "source": [
    "## Greedy Algorithms\n",
    "\n",
    "결국 정렬 후 작은 수를 앞에다 두는 것이 최선의 방법"
   ]
  },
  {
   "cell_type": "code",
   "execution_count": 5,
   "metadata": {},
   "outputs": [
    {
     "name": "stdout",
     "output_type": "stream",
     "text": [
      "5\n",
      "3 1 4 3 2\n",
      "32\n"
     ]
    }
   ],
   "source": [
    "value = int(input())\n",
    "ary = []\n",
    "temp = input().split()\n",
    "for i in range (0,value) :\n",
    "    temp_value = int(temp[i])\n",
    "    ary.append(temp_value)\n",
    "    \n",
    "ary.sort()\n",
    "result_ary = []\n",
    "for i in range (0,value):\n",
    "    temp = 0\n",
    "    for j in range (i,-1,-1) :\n",
    "        temp = temp + ary[j]\n",
    "    result_ary.append(temp)\n",
    "\n",
    "result = 0\n",
    "for i in range (0,value) :\n",
    "    result = result + result_ary[i]\n",
    "print(result)"
   ]
  }
 ],
 "metadata": {
  "kernelspec": {
   "display_name": "Python 3",
   "language": "python",
   "name": "python3"
  },
  "language_info": {
   "codemirror_mode": {
    "name": "ipython",
    "version": 3
   },
   "file_extension": ".py",
   "mimetype": "text/x-python",
   "name": "python",
   "nbconvert_exporter": "python",
   "pygments_lexer": "ipython3",
   "version": "3.7.6"
  }
 },
 "nbformat": 4,
 "nbformat_minor": 4
}
