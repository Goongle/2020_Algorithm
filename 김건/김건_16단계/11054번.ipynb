{
 "cells": [
  {
   "cell_type": "markdown",
   "metadata": {},
   "source": [
    "## Dynamic Programming\n",
    "\n",
    "처음 아이디어는 최장 길이 수열 (증가 감소)를 모두 구한 후 이것 기준으로 이후 숫자들을 더하면 될 것이라고 생각하였다.\n",
    "\n",
    "하지만 이렇게 될 경우 6 자리 1 2 3 2 1 4 와 같이 최장길이 수열이 1 2 3 4 로 미리 존재하는 것이 있으므로 최장 길이 바이토닉 부분 수열이 되지 않았다.\n",
    "\n",
    "각 길이에서 최장 길이 수열을 멈추고 그 위치에서의 반대 수열 (증가면 감소, 감소면 증가)에 대한 길이를 합산하여 result 값으로 저장하면 될 것 같았다.\n",
    "\n",
    "하지만 메모리 낭비가 심할 것이라고 예상 하였다.. ㅠㅠ for문이 2중으로 두번 들어가야 하기 때문\n",
    "\n",
    "+ 증가하는 수열 및 감소 하는 수열 모두 구할 것\n",
    "1-1. 증가하는 수열 구하기\n",
    "1-2. 증가하는 수열에서 감소하는 수열 구하기\n",
    "\n",
    "2-1. 감소하는 수열 구하기\n",
    "2-2. 감소하는 수열에서 증가하는 수열 구하기\n",
    "\n",
    "두 우선 순위를 따져주려고 했으나 크게 불 필요 하였음.\n",
    "\n",
    "계산한 방식은 다음과 같다. \n",
    "\n",
    "1. 증가하는 최장 수열을 구함\n",
    "2. 1, 2, 3, 4, 5 .. 까지 있다고 하면 감소하는 수열 또한 고려해야 할 대상이므로 시작점을 +1 씩하여 감소하는 수열 계산\n",
    "why? \n",
    "\n",
    "1,2,3,2,1 이 있다고 가정할 때 1 2 3 은 증가 하는 수열에 사용되었으므로 나머지부터 3 2 1 간의 증 감소 수열을 따져야 한다. \n",
    "따라서, 1 2 3 2 1 / 2 3 2 1 / 3 2 1 / 2 1 / 1 로 증가하는 수열이 끝나는 시점을 하나씩 옮기면서 감소하는 수열을 체크하면 문제를 풀 수 있다.\n",
    "\n",
    "\n",
    "* 문제의 해답을 보니,, \n",
    "\n",
    "증가하는 수열 + 감소하는 수열의 최장 수열의 길이를 구한 후 빼면 된다고 한다.."
   ]
  },
  {
   "cell_type": "code",
   "execution_count": 51,
   "metadata": {},
   "outputs": [
    {
     "name": "stdout",
     "output_type": "stream",
     "text": [
      "6\n",
      "1 2 3 2 1 4\n",
      "3\n",
      "3\n",
      "3\n",
      "2\n",
      "1\n",
      "1\n",
      "5\n"
     ]
    }
   ],
   "source": [
    "value = int(input())\n",
    "temp = input().split()\n",
    "input_ary = []\n",
    "for i in range (0,value) :\n",
    "    num = int(temp[i])\n",
    "    input_ary.append(num)\n",
    "\n",
    "dp1_up = [1] * value # 최장 길이 증가 하는\n",
    "dp2 = [1] * value # 최장 길이 감소 하는\n",
    "\n",
    "for i in range (0,value) :\n",
    "    for j in range(i,-1,-1) :\n",
    "        if input_ary[i] > input_ary[j] :\n",
    "            dp1_up[i] = max(dp1_up[i],dp1_up[j] + 1)\n",
    "for z in range (0, value) :\n",
    "    temp_ary = input_ary[z:]\n",
    "    dp1_down = [1] * len(temp_ary)\n",
    "    for i in range (0,len(temp_ary)) :\n",
    "        for j in range (i,-1,-1) :\n",
    "            if temp_ary[i] < temp_ary[j] :\n",
    "                dp1_down[i] = max(dp1_down[i],dp1_down[j] + 1)\n",
    "    dp1_up[z] = dp1_up[z] + max(dp1_down) - 1\n",
    "    \n",
    "print(max(dp1_up))            \n",
    "\n",
    "            \n",
    "            \n"
   ]
  }
 ],
 "metadata": {
  "kernelspec": {
   "display_name": "Python 3",
   "language": "python",
   "name": "python3"
  },
  "language_info": {
   "codemirror_mode": {
    "name": "ipython",
    "version": 3
   },
   "file_extension": ".py",
   "mimetype": "text/x-python",
   "name": "python",
   "nbconvert_exporter": "python",
   "pygments_lexer": "ipython3",
   "version": "3.7.6"
  }
 },
 "nbformat": 4,
 "nbformat_minor": 4
}
