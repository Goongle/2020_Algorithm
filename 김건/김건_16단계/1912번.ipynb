{
 "cells": [
  {
   "cell_type": "markdown",
   "metadata": {},
   "source": [
    "## Dynamic Programming\n",
    "\n",
    "연속된 수를 합하여 가장 큰 수를 나타내는 것이다.\n",
    "\n",
    "해당 문제를 풀며 생각해야 할 점은\n",
    "\n",
    "1. 연속된 수라는 점 \n",
    "2. 2개 > 3개 이면서 2개 < 4개인 경우가 존재한다는 것\n",
    "ex) 1 2 -1 4 -> 3 / 2 / 6 이되므로 결과적으로는 다 더하는 것이 가장 큰 값을 가진다.\n",
    "\n",
    "3. 위와 비슷한 케이스로 다 더해보지 않고서는 Max 값을 알 수 없다. 1 2 -1 -1 4 이런 경우를 보아도 결국 다 더해야 가장 큰 수를 가지는 것을 알 수 있다.\n",
    "\n",
    "4. 일단 부분적으로 최대 값을 구해야 할 것이다 + 연속적인 값이므로 현재 최대값이 아닌 것이 최대 값이 될 수 있다.\n",
    "\n",
    "case 분류\n",
    "1. 연속적인 값 저장\n",
    "2. 이전 값에서 중지 + 이후 값\n",
    "-> max 비교\n",
    "\n",
    "음수 이전 값이 마이너스만 되지 않으면 결국 연속적으로 더하는 것이 좋다. \n",
    "\n",
    "2차원 배열을 만들고 시작점에 따라서 값 저장\n",
    "\n",
    "ex)\n",
    "\n",
    "10 -4 3 1 5 6 -35 12 21 -1\n",
    "\n",
    "10으로부터 시작 ~ \n",
    "-4으로부터 시작 ~ \n",
    "3으로부터 시작 ~\n",
    "\n",
    "(이전 값을 포함할 지 여부는 max값으로 내려오면 될 것 같다.)\n",
    "\n",
    "각 항의 한칸 뒤에 max 값을 넣자\n",
    "\n",
    "* 잘못 접근했던 부분이 있다.\n",
    "\n",
    "결국 이전의 합이 양수이면 어찌됐든 더하면 더 큰 값을 갖는다고 볼 수 있다.\n",
    "\n",
    "3 -1 -1 4 5 6 -45 87 이렇게 있다고 가정하자\n",
    "\n",
    "그렇다면 연속된 수를 더하기 위해서 4 이전까지의 값들은 어떻게 해야할까 ?\n",
    "\n",
    "결국 3 -1 -1 을 계산하면 1이 나오지만 이것 또한 양수이므로 연속적으로 더하면 된다. 즉\n",
    "\n",
    "sum[i] 와 a[i] + sum[i] 를 비교하면 되는 것 이다. 그리고 연속적으로 더하는 것이 아니라 한 칸 앞으로 갈 때마다 append를 해준다.\n",
    "\n",
    "그렇게 되면 3, 2, 1 이 append가 되고 7 또한 append가 되는 것이다. 그리고 5를 더했을 때 12 6을 더했을 때 18이 저장된다.\n",
    "\n",
    "-45를 만날 경우 18 + -45 / -45 를 비교하게 되고 결국 -33이 append 된다.\n",
    "\n",
    "마지막으로 보면 sum[i] 과 a[i]를 더한 값과 a[i]를 비교하면 a[i] 가 크므로 a[i] 가 sum에 append가 된다.\n",
    "\n",
    "최종적으로 max(sum) 값을 뽑아주면 된다."
   ]
  },
  {
   "cell_type": "code",
   "execution_count": 57,
   "metadata": {},
   "outputs": [
    {
     "name": "stdout",
     "output_type": "stream",
     "text": [
      "5\n",
      "-1 -2 -3 -4 -5\n",
      "-1\n"
     ]
    }
   ],
   "source": [
    "value = int(input())\n",
    "\n",
    "ary = []\n",
    "temp_ = input().split()\n",
    "temp = []\n",
    "for i in range (0,len(temp_)) :\n",
    "    temp.append(int(temp_[i]))\n",
    "result_ary = []\n",
    "\n",
    "for i in range (0,value) :\n",
    "    var = []\n",
    "    for j in range (0,value) :\n",
    "        if i == j :\n",
    "            var.append(temp[j])\n",
    "        else:\n",
    "            var.append(0)\n",
    "    result_ary.append(var)\n",
    "\n",
    "result_max_num = 0\n",
    "for i in range (0,value) :\n",
    "    if i != 0 :\n",
    "        max_num = 0\n",
    "        for z in range (0,i+1) :\n",
    "            if result_ary[z][i] > max_num :\n",
    "                max_num = result_ary[z][i]\n",
    "        result_ary[i][i] = max_num\n",
    "    else:\n",
    "        result_ary[i][i] = temp[i]\n",
    "    for j in range (i+1,value) :\n",
    "        result_ary[i][j] = result_ary[i][j-1] + temp[j]\n",
    "        if result_max_num < result_ary[i][j] :\n",
    "            result_max_num = result_ary[i][j]\n",
    "count = 0\n",
    "for i in range (0,value) :\n",
    "    if temp[i] < 0 :\n",
    "        count = count + 1\n",
    "if count == value :\n",
    "    print(max(temp))\n",
    "else:\n",
    "    print(result_max_num)"
   ]
  },
  {
   "cell_type": "code",
   "execution_count": null,
   "metadata": {},
   "outputs": [],
   "source": [
    "n = int(input())\n",
    "a = list(map(int, input().split()))\n",
    "sum = [a[0]]\n",
    "for i in range(len(a) - 1):\n",
    "    sum.append(max(sum[i] + a[i + 1], a[i + 1]))\n",
    "print(max(sum))"
   ]
  },
  {
   "cell_type": "code",
   "execution_count": null,
   "metadata": {},
   "outputs": [],
   "source": []
  }
 ],
 "metadata": {
  "kernelspec": {
   "display_name": "Python 3",
   "language": "python",
   "name": "python3"
  },
  "language_info": {
   "codemirror_mode": {
    "name": "ipython",
    "version": 3
   },
   "file_extension": ".py",
   "mimetype": "text/x-python",
   "name": "python",
   "nbconvert_exporter": "python",
   "pygments_lexer": "ipython3",
   "version": "3.7.6"
  }
 },
 "nbformat": 4,
 "nbformat_minor": 4
}
