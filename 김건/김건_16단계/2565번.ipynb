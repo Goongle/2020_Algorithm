{
 "cells": [
  {
   "cell_type": "markdown",
   "metadata": {},
   "source": [
    "## Dynamic Programming \n",
    "\n",
    "두 개의 줄이 있을 경우 A 줄의 x ,y 좌표가 B 줄의 x,y 좌표 중 하나보다 작으면 겹치는 것으로 볼 수 있다.\n",
    "\n",
    "Brute Force 방법으로 for 문을 여러 번 돌려 가장 많이 중첩이 되는 선을 하나씩 지울 경우 해결을 할 수 있다.\n",
    "\n",
    "최장 길이 수열을 이용하면 x 에 해당 되는 값을 통해 정렬한다.\n",
    "\n",
    " 이후 y에 해당 되는 값으로 최장 수열을 비교하면 알 수 있다.\n",
    " \n",
    " 즉 풀이는 다음과 같다.\n",
    " \n",
    " x와 y 축으로 구성된 두 배열이 있을 때 선이 꼬이게 되는 경우는\n",
    " \n",
    " 1) x1 > x2 이면서 y1 < y2\n",
    " 2) x1 < x2 이면서 y1 > y2 이다.\n",
    " \n",
    " 따라서, 두 경우의 수 모두를 만족해야 선이 꼬이게 되는 것이다.\n",
    " \n",
    " 그렇다면 x를 기준으로 모두 정렬하면 어떻게 될까?\n",
    " \n",
    " x 를 기준으로 정렬한다면 \n",
    " \n",
    " 1, y1\n",
    " 2, y2\n",
    " 3, y3 ..  순으로 정렬이 될 것이다.\n",
    " \n",
    " 이렇게 되면 x는 모두 정렬이 되어 있으므로 y1 > y2인 경우들을 제외하면 되는데, 이때 쓰이는 것이 최장 길이 수열 알고리즘이다.\n",
    " \n",
    " 최장 길이 수열 알고리즘을 사용하게 되면 증가하는 순서로 구성된 배열의 최대 개수를 알 수 있다. \n",
    " \n",
    " 따라서 그 외의 것들은 해당과 같이 구성이 된 것이 아니므로 그 외의 것들만 없애면 최소 개수를 구할 수 있다."
   ]
  },
  {
   "cell_type": "code",
   "execution_count": 16,
   "metadata": {},
   "outputs": [
    {
     "name": "stdout",
     "output_type": "stream",
     "text": [
      "8\n",
      "1 8\n",
      "3 9\n",
      "2 2\n",
      "4 1\n",
      "6 4\n",
      "10 10\n",
      "9 7\n",
      "7 6\n",
      "3\n"
     ]
    }
   ],
   "source": [
    "value = int(input())\n",
    "input_ary = []\n",
    "for i in range (0,value) :\n",
    "    temp = input().split()\n",
    "    temp_ary = []\n",
    "    for j in range (0,2) :\n",
    "        temp_ary.append(int(temp[j]))\n",
    "    input_ary.append(temp_ary)\n",
    "dp = [1] * value\n",
    "input_ary.sort()\n",
    "temp_ary = []\n",
    "for i in range (0,len(input_ary)) :\n",
    "    temp_ary.append(input_ary[i][1])\n",
    "    \n",
    "for i in range (0,value) :\n",
    "    for j in range (i,-1,-1) :\n",
    "        if temp_ary[i] > temp_ary[j] :\n",
    "            dp[i] = max(dp[i],dp[j]+1)\n",
    "\n",
    "print(value - max(dp))\n"
   ]
  }
 ],
 "metadata": {
  "kernelspec": {
   "display_name": "Python 3",
   "language": "python",
   "name": "python3"
  },
  "language_info": {
   "codemirror_mode": {
    "name": "ipython",
    "version": 3
   },
   "file_extension": ".py",
   "mimetype": "text/x-python",
   "name": "python",
   "nbconvert_exporter": "python",
   "pygments_lexer": "ipython3",
   "version": "3.7.6"
  }
 },
 "nbformat": 4,
 "nbformat_minor": 4
}
