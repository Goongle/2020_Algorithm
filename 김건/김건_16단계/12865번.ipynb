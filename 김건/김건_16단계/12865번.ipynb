{
 "cells": [
  {
   "cell_type": "markdown",
   "metadata": {},
   "source": [
    "## Dynamic Programming\n",
    "\n",
    "무게와 가치의 평균가를 구해서 이를 순차적으로 넣는다. -> 낮은 무게에 낮은 가중치가 여러 개가 있다면 의미가 없을 수도 있다. -> 의미가 없다.\n",
    "\n",
    "결국 Dp를 사용하려면 어떤 식으로 접근할지에 대한 아이디어가 필요하다.\n",
    "\n",
    "* 배열을 어떤 식으로 세울지 생각할 것\n",
    "* 최대 값을 단계적으로 어떻게 뽑아낼 것인가 생각할 것\n",
    "\n",
    "2차원 배열을 두고 j 는 물건의 순번 (6,13) (4,8) .. 그리고 i는 0~7까지 견딜 수 있는 무게를 가져온다.\n",
    "\n",
    "해당 문제는 Knapsack(배낭) 문제로 DP의 유명한 문제라고 한다.\n",
    "\n",
    "DP의 점화식은 다음과 같다 i번째 물건을 넣을 것이고 최대 무게를 j라고 했을 때\n",
    "\n",
    "knap[i,W] = { knap[i-1],W] if w_i > W (현재 내가 수용 가능한 무게보다 물건의 무게가 무거울 경우)\n",
    "            { max(Knap[i-1,W],knap[i-1,W-w_i] +b_i) (현재 수용 가능한 무게보다 물건이 가벼울 경우)\n",
    "            -> 이전에 넣지 않았을 경우가 더 가치가 높은지 혹은 해당 무게의 물건을 넣은 상태가 더 가치가 높은지에 대해 비교하면 된다.\n",
    "            "
   ]
  },
  {
   "cell_type": "code",
   "execution_count": 14,
   "metadata": {},
   "outputs": [
    {
     "name": "stdout",
     "output_type": "stream",
     "text": [
      "4 7\n",
      "6 13\n",
      "4 8\n",
      "3 6\n",
      "5 12\n",
      "[0, 0, 0, 6, 8, 12, 13, 14]\n"
     ]
    }
   ],
   "source": [
    "input_temp = input().split()\n",
    "\n",
    "item_value = int(input_temp[0]) # 물품의 수 \n",
    "item_weight = int(input_temp[1]) # 준서가 견딜 수 있는 무게\n",
    "input_ary = [] # 아이템 무게와 가치를 담을 배열\n",
    "\n",
    "for i in range (0,item_value) :\n",
    "    temp = input().split()\n",
    "    temp_ary = []\n",
    "    temp_ary.append(int(temp[0]))\n",
    "    temp_ary.append(int(temp[1]))\n",
    "    input_ary.append(temp_ary)\n",
    "dp = []\n",
    "for i in range (0,item_value+1):\n",
    "    input_temp = []\n",
    "    for j in range (0,item_weight+1) :\n",
    "        input_temp.append(0)\n",
    "    dp.append(input_temp)\n",
    "for i in range (1, item_value +1): # 물품 수\n",
    "    for j in range (1,item_weight +1): # 견딜 수 있는 무게\n",
    "        if input_ary[i-1][0] > j :\n",
    "            dp[i][j] = dp[i-1][j]\n",
    "        else:\n",
    "            dp[i][j] = max(dp[i-1][j],dp[i-1][j-input_ary[i-1][0]] + input_ary[i-1][1])\n",
    "\n",
    "result = 0\n",
    "for i in range (0,item_value+1) :\n",
    "    for j in range (0, item_weight+1) :\n",
    "        if result < dp[i][j] :\n",
    "            result = dp[i][j]\n",
    "print(result)\n",
    "\n"
   ]
  }
 ],
 "metadata": {
  "kernelspec": {
   "display_name": "Python 3",
   "language": "python",
   "name": "python3"
  },
  "language_info": {
   "codemirror_mode": {
    "name": "ipython",
    "version": 3
   },
   "file_extension": ".py",
   "mimetype": "text/x-python",
   "name": "python",
   "nbconvert_exporter": "python",
   "pygments_lexer": "ipython3",
   "version": "3.7.6"
  }
 },
 "nbformat": 4,
 "nbformat_minor": 4
}
