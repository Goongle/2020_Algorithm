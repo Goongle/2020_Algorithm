{
 "cells": [
  {
   "cell_type": "markdown",
   "metadata": {},
   "source": [
    "## Dynamic Programming\n",
    "\n",
    "문제를 푼 포인트는 5라고 치면 이전까지 1,2,3,4 에 해당하는 Min 값들을 순차적으로 저장하는 것에 있다.\n",
    "즉, 5를 구한다고 치면 5 이전의 값들을 통해서 값을 구성할 수 있어야 한다.\n",
    "\n",
    "예를 들면, 1,2,3은 0, 1, 1 이라는 횟수를 가진다. 이를 통해 이후 값들을 구할 수 있다.\n",
    "ex) 4라는 수를 보자. 4는 2로 나누어져 결국 2를 구성하는 단계의 + 1을 할 경우 값을 구할 수 있다.\n",
    "\n",
    "9라는 수를 보면 3으로 나누어져 3을 구성하는 단계의 + 1을 할 경우 값을 구할 수 있다.\n",
    "\n",
    "이때, 몇 가지 예외가 존재한다.\n",
    "\n",
    "10을 보면, 2로 나누어져 5의 단계 값에 1을 더할 수 있다. 하지만 그렇게 하면 총 횟수는 4회가 나온다.\n",
    "하지만, 10 -> 9 -> 3 -> 1 으로 3회로 1을 만들 수 있다.\n",
    "\n",
    "즉, 적절한 예외처리가 필요하다. 이때 예외 사항을 보면\n",
    "-> 1. 2로 나누는 것과 3으로 나누는 것 두 가지 경우가 모두 발생할 경우 ex) 6 12 18 24 ..\n",
    "-> 2. 2와 3으로 나누기 전 그냥 1을 빼서 값을 맞추는 것이 더욱 단계 수가 적은 경우 ex) 10, 82\n",
    "\n",
    "이러한 예외만 처리하면 값을 구할 수 있다."
   ]
  },
  {
   "cell_type": "code",
   "execution_count": 43,
   "metadata": {},
   "outputs": [
    {
     "name": "stdout",
     "output_type": "stream",
     "text": [
      "30\n",
      "4\n"
     ]
    }
   ],
   "source": [
    "# X가 3으로 나누어 떨어지면 3으로 나눈다\n",
    "# X가 2로 나누어 떨어지면 2로 나눈다.\n",
    "# 1을 뺀다.\n",
    "# 1을 나오게 하려고 한다.\n",
    "\n",
    "value = int(input())\n",
    "result_ary = []\n",
    "result_ary.append(0)\n",
    "result_ary.append(0) # 1 일때\n",
    "result_ary.append(1)\n",
    "result_ary.append(1)\n",
    "for i in range (4,value + 1) :\n",
    "    value2 = (result_ary[i-1] + 1)\n",
    "    if i % 2 == 0 :\n",
    "        value1 = (result_ary[int(i/2)] + 1)\n",
    "    else:\n",
    "        value1 = 100000\n",
    "    if i % 3 == 0:\n",
    "        value3 = (result_ary[int(i/3)] + 1)\n",
    "    else:\n",
    "        value3 = 100000\n",
    "    result_ary.append(min(min(value1,value2),value3))\n",
    "print(result_ary[value])"
   ]
  }
 ],
 "metadata": {
  "kernelspec": {
   "display_name": "Python 3",
   "language": "python",
   "name": "python3"
  },
  "language_info": {
   "codemirror_mode": {
    "name": "ipython",
    "version": 3
   },
   "file_extension": ".py",
   "mimetype": "text/x-python",
   "name": "python",
   "nbconvert_exporter": "python",
   "pygments_lexer": "ipython3",
   "version": "3.7.6"
  }
 },
 "nbformat": 4,
 "nbformat_minor": 4
}
