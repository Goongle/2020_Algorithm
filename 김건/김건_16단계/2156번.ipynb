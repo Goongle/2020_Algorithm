{
 "cells": [
  {
   "cell_type": "code",
   "execution_count": null,
   "metadata": {},
   "outputs": [],
   "source": [
    "## Dynamic Programming\n",
    "\n",
    "해당 문제에 접근하기 위한 아이디어\n",
    "\n",
    "1. 이전의 계단 오르기 문제와 비슷하지 않을까 라는 생각\n",
    "2. 몇 번째 잔을 먹을 때 가장 높은 수가 나오는지에 대해서 dp 로 구해주면 되지 않을까 라는 생각\n",
    "\n",
    "정리하자면 다음과 같다. \n",
    "\n",
    "O   O   O   O   O   O \n",
    "1   2   3   4   5   6\n",
    "\n",
    "과 같이 포도주가 있다고 가정하자. 그럴 경우 4번을 보면 Max로 수치를 계산하려고 한다면, 경우의 수는\n",
    "1. 3번을 먹고 4번을 먹는 경우 -> dp[i-3] + input_ary[i-1] + input_ary[i]\n",
    "2. 2번을 먹고 4번을 먹는 경우 -> dp[i-2] + input_ary[i]\n",
    "3. 4번을 먹지 않는 경우 -> dp[i-1]\n",
    "\n",
    "총 3개로 나눌 수 있다. \n",
    "\n",
    "1,2번은 계단과 같지만 3번 같은 경우에는 조금 다르다. 이를 해석하면 2,3 번을 연속적으로 먹게 되는 경우가 4번을 먹는 것보다 더 많은 양을 \n",
    "먹을 수 있기 때문에 4번을 먹지 않고 2,3번을 먹는 것이다. \n",
    "\n",
    "이러한 방식으로 케이스를 나누어 접근하면 문제를 해결할 수 있다."
   ]
  },
  {
   "cell_type": "code",
   "execution_count": 41,
   "metadata": {},
   "outputs": [
    {
     "name": "stdout",
     "output_type": "stream",
     "text": [
      "6\n",
      "6\n",
      "10\n",
      "13\n",
      "9\n",
      "8\n",
      "1\n",
      "33\n"
     ]
    }
   ],
   "source": [
    "# 1 1 2 4 5 7\n",
    "value = int(input())\n",
    "input_ary = []\n",
    "\n",
    "for i in range (0,value) :\n",
    "    temp = int(input())\n",
    "    input_ary.append(temp)\n",
    "    \n",
    "dp = []\n",
    "if value == 1 :\n",
    "    dp.append(input_ary[0])\n",
    "elif value == 2:\n",
    "    dp.append(input_ary[0] + input_ary[1])\n",
    "else :\n",
    "    dp.append(input_ary[0])\n",
    "    dp.append(input_ary[0] + input_ary[1])\n",
    "    temp_val1 = max(input_ary[0]+input_ary[2], input_ary[1]+input_ary[2])\n",
    "    temp_val2 = max(input_ary[0] + input_ary[1],temp_val1)\n",
    "    dp.append(temp_val2)\n",
    "    for i in range (3,value) :\n",
    "        \n",
    "        value1 = dp[i-3] + input_ary[i-1] + input_ary[i]\n",
    "        value2 = dp[i-2] + input_ary[i]\n",
    "        temp_value = max(value1,value2)\n",
    "        dp.append(max(temp_value,dp[i-1]))\n",
    "print(max(dp))"
   ]
  }
 ],
 "metadata": {
  "kernelspec": {
   "display_name": "Python 3",
   "language": "python",
   "name": "python3"
  },
  "language_info": {
   "codemirror_mode": {
    "name": "ipython",
    "version": 3
   },
   "file_extension": ".py",
   "mimetype": "text/x-python",
   "name": "python",
   "nbconvert_exporter": "python",
   "pygments_lexer": "ipython3",
   "version": "3.7.6"
  }
 },
 "nbformat": 4,
 "nbformat_minor": 4
}
